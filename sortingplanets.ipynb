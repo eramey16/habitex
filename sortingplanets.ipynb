{
 "cells": [
  {
   "cell_type": "markdown",
   "id": "6f2a37e3",
   "metadata": {},
   "source": [
    "## Sorting Planets based on Three Populations: rocky, water-rich, and gas-rich with Planet density\n"
   ]
  },
  {
   "cell_type": "code",
   "execution_count": 1,
   "id": "03ea709d",
   "metadata": {},
   "outputs": [],
   "source": [
    "from astroquery.ipac.nexsci.nasa_exoplanet_archive import NasaExoplanetArchive\n",
    "import numpy as np\n",
    "import pandas as pd\n",
    "import matplotlib.pyplot as plt"
   ]
  },
  {
   "cell_type": "code",
   "execution_count": 2,
   "id": "a573f239",
   "metadata": {},
   "outputs": [],
   "source": [
    "import habitex"
   ]
  },
  {
   "cell_type": "code",
   "execution_count": 13,
   "id": "69492365",
   "metadata": {},
   "outputs": [
    {
     "data": {
      "text/html": [
       "<div><i>QTable masked=True length=5967</i>\n",
       "<table id=\"table5092345520\" class=\"table-striped table-bordered table-condensed\">\n",
       "<thead><tr><th>pl_name</th><th>pl_dens</th></tr></thead>\n",
       "<thead><tr><th></th><th>g / cm3</th></tr></thead>\n",
       "<thead><tr><th>str29</th><th>float64</th></tr></thead>\n",
       "<tr><td>Kepler-334 d</td><td>5.04</td></tr>\n",
       "<tr><td>Kepler-279 c</td><td>0.3</td></tr>\n",
       "<tr><td>Kepler-251 d</td><td>2.09</td></tr>\n",
       "<tr><td>Kepler-729 b</td><td>1.5</td></tr>\n",
       "<tr><td>Kepler-687 b</td><td>1.54</td></tr>\n",
       "<tr><td>Kepler-119 b</td><td>1.48</td></tr>\n",
       "<tr><td>Kepler-1115 b</td><td>3.95</td></tr>\n",
       "<tr><td>Kepler-1073 b</td><td>2.66</td></tr>\n",
       "<tr><td>HD 16175 b</td><td>4.91</td></tr>\n",
       "<tr><td>...</td><td>...</td></tr>\n",
       "<tr><td>Kepler-617 b</td><td>5.5</td></tr>\n",
       "<tr><td>HD 60532 b</td><td>0.704</td></tr>\n",
       "<tr><td>HD 60532 c</td><td>1.86</td></tr>\n",
       "<tr><td>HD 63765 b</td><td>0.323</td></tr>\n",
       "<tr><td>Kepler-1739 b</td><td>2.48</td></tr>\n",
       "<tr><td>HD 92788 b</td><td>2.99</td></tr>\n",
       "<tr><td>HD 96063 b</td><td>0.863</td></tr>\n",
       "<tr><td>HD 96127 b</td><td>20.7</td></tr>\n",
       "<tr><td>Kepler-130 c</td><td>1.97</td></tr>\n",
       "</table></div>"
      ],
      "text/plain": [
       "<QTable masked=True length=5967>\n",
       "   pl_name    pl_dens\n",
       "              g / cm3\n",
       "    str29     float64\n",
       "------------- -------\n",
       " Kepler-334 d    5.04\n",
       " Kepler-279 c     0.3\n",
       " Kepler-251 d    2.09\n",
       " Kepler-729 b     1.5\n",
       " Kepler-687 b    1.54\n",
       " Kepler-119 b    1.48\n",
       "Kepler-1115 b    3.95\n",
       "Kepler-1073 b    2.66\n",
       "   HD 16175 b    4.91\n",
       "          ...     ...\n",
       " Kepler-617 b     5.5\n",
       "   HD 60532 b   0.704\n",
       "   HD 60532 c    1.86\n",
       "   HD 63765 b   0.323\n",
       "Kepler-1739 b    2.48\n",
       "   HD 92788 b    2.99\n",
       "   HD 96063 b   0.863\n",
       "   HD 96127 b    20.7\n",
       " Kepler-130 c    1.97"
      ]
     },
     "execution_count": 13,
     "metadata": {},
     "output_type": "execute_result"
    }
   ],
   "source": [
    "NasaExoplanetArchive.query_criteria(table=\"pscomppars\", select=\"pl_name,pl_dens\")"
   ]
  },
  {
   "cell_type": "code",
   "execution_count": 9,
   "id": "59033685",
   "metadata": {},
   "outputs": [],
   "source": [
    "# Getting data values\n",
    "ae = habitex.ArchiveExplorer()\n",
    "data = ae.query_exo()\n",
    "planet_name = data['pl_name']\n",
    "planet_dens = data['pl_dens'].to_numpy()\n",
    "planet_type1 = data['pl_type']\n",
    "planet_type2 = data[['pl_name', 'pl_type']]\n"
   ]
  },
  {
   "cell_type": "code",
   "execution_count": 10,
   "id": "ef963841",
   "metadata": {},
   "outputs": [
    {
     "data": {
      "text/plain": [
       "0       Rocky planets\n",
       "1         Gas planets\n",
       "2       Rocky planets\n",
       "3       Rocky planets\n",
       "4       Rocky planets\n",
       "            ...      \n",
       "4651    Rocky planets\n",
       "4652      Gas planets\n",
       "4653    Rocky planets\n",
       "4654    Rocky planets\n",
       "4655    Rocky planets\n",
       "Name: pl_type, Length: 4656, dtype: object"
      ]
     },
     "execution_count": 10,
     "metadata": {},
     "output_type": "execute_result"
    }
   ],
   "source": [
    "planet_type1"
   ]
  },
  {
   "cell_type": "code",
   "execution_count": 11,
   "id": "b8f2c152",
   "metadata": {},
   "outputs": [
    {
     "data": {
      "text/html": [
       "<div>\n",
       "<style scoped>\n",
       "    .dataframe tbody tr th:only-of-type {\n",
       "        vertical-align: middle;\n",
       "    }\n",
       "\n",
       "    .dataframe tbody tr th {\n",
       "        vertical-align: top;\n",
       "    }\n",
       "\n",
       "    .dataframe thead th {\n",
       "        text-align: right;\n",
       "    }\n",
       "</style>\n",
       "<table border=\"1\" class=\"dataframe\">\n",
       "  <thead>\n",
       "    <tr style=\"text-align: right;\">\n",
       "      <th></th>\n",
       "      <th>pl_name</th>\n",
       "      <th>pl_type</th>\n",
       "    </tr>\n",
       "  </thead>\n",
       "  <tbody>\n",
       "    <tr>\n",
       "      <th>0</th>\n",
       "      <td>Kepler-334 d</td>\n",
       "      <td>Rocky planets</td>\n",
       "    </tr>\n",
       "    <tr>\n",
       "      <th>1</th>\n",
       "      <td>Kepler-279 c</td>\n",
       "      <td>Gas planets</td>\n",
       "    </tr>\n",
       "    <tr>\n",
       "      <th>2</th>\n",
       "      <td>Kepler-251 d</td>\n",
       "      <td>Rocky planets</td>\n",
       "    </tr>\n",
       "    <tr>\n",
       "      <th>3</th>\n",
       "      <td>Kepler-729 b</td>\n",
       "      <td>Rocky planets</td>\n",
       "    </tr>\n",
       "    <tr>\n",
       "      <th>4</th>\n",
       "      <td>Kepler-687 b</td>\n",
       "      <td>Rocky planets</td>\n",
       "    </tr>\n",
       "    <tr>\n",
       "      <th>...</th>\n",
       "      <td>...</td>\n",
       "      <td>...</td>\n",
       "    </tr>\n",
       "    <tr>\n",
       "      <th>4651</th>\n",
       "      <td>HD 60532 c</td>\n",
       "      <td>Rocky planets</td>\n",
       "    </tr>\n",
       "    <tr>\n",
       "      <th>4652</th>\n",
       "      <td>HD 63765 b</td>\n",
       "      <td>Gas planets</td>\n",
       "    </tr>\n",
       "    <tr>\n",
       "      <th>4653</th>\n",
       "      <td>Kepler-1739 b</td>\n",
       "      <td>Rocky planets</td>\n",
       "    </tr>\n",
       "    <tr>\n",
       "      <th>4654</th>\n",
       "      <td>HD 96063 b</td>\n",
       "      <td>Rocky planets</td>\n",
       "    </tr>\n",
       "    <tr>\n",
       "      <th>4655</th>\n",
       "      <td>Kepler-130 c</td>\n",
       "      <td>Rocky planets</td>\n",
       "    </tr>\n",
       "  </tbody>\n",
       "</table>\n",
       "<p>4656 rows × 2 columns</p>\n",
       "</div>"
      ],
      "text/plain": [
       "            pl_name        pl_type\n",
       "0      Kepler-334 d  Rocky planets\n",
       "1      Kepler-279 c    Gas planets\n",
       "2      Kepler-251 d  Rocky planets\n",
       "3      Kepler-729 b  Rocky planets\n",
       "4      Kepler-687 b  Rocky planets\n",
       "...             ...            ...\n",
       "4651     HD 60532 c  Rocky planets\n",
       "4652     HD 63765 b    Gas planets\n",
       "4653  Kepler-1739 b  Rocky planets\n",
       "4654     HD 96063 b  Rocky planets\n",
       "4655   Kepler-130 c  Rocky planets\n",
       "\n",
       "[4656 rows x 2 columns]"
      ]
     },
     "execution_count": 11,
     "metadata": {},
     "output_type": "execute_result"
    }
   ],
   "source": [
    "planet_type2"
   ]
  },
  {
   "cell_type": "code",
   "execution_count": 5,
   "id": "febc5c87",
   "metadata": {},
   "outputs": [
    {
     "name": "stdout",
     "output_type": "stream",
     "text": [
      "            pl_name  pl_dens    planet_type\n",
      "0     Rocky planets    5.040  Rocky planets\n",
      "1       Gas planets    0.300    Gas planets\n",
      "2     Rocky planets    2.090  Rocky planets\n",
      "3     Rocky planets    1.500  Rocky planets\n",
      "4     Rocky planets    1.540  Rocky planets\n",
      "...             ...      ...            ...\n",
      "4651  Rocky planets    1.860  Rocky planets\n",
      "4652    Gas planets    0.323    Gas planets\n",
      "4653  Rocky planets    2.480  Rocky planets\n",
      "4654  Rocky planets    0.863  Rocky planets\n",
      "4655  Rocky planets    1.970  Rocky planets\n",
      "\n",
      "[4656 rows x 3 columns]\n"
     ]
    }
   ],
   "source": [
    "df = pd.DataFrame({\n",
    "    'pl_name': planet_name,\n",
    "    'pl_dens': planet_dens\n",
    "})\n",
    "\n",
    "def classify_planet_by_density(density_ratio):\n",
    "    if density_ratio < 0.4:\n",
    "        return \"Gas planets\"\n",
    "    elif density_ratio < 0.7:\n",
    "        return \"Water worlds\"\n",
    "    else:\n",
    "        return \"Rocky planets\"\n",
    "\n",
    "\n",
    "df['planet_type'] = df['pl_dens'].apply(classify_planet_by_density)\n",
    "print(df)"
   ]
  },
  {
   "cell_type": "code",
   "execution_count": null,
   "id": "aca27530",
   "metadata": {},
   "outputs": [],
   "source": []
  }
 ],
 "metadata": {
  "kernelspec": {
   "display_name": "base",
   "language": "python",
   "name": "python3"
  },
  "language_info": {
   "codemirror_mode": {
    "name": "ipython",
    "version": 3
   },
   "file_extension": ".py",
   "mimetype": "text/x-python",
   "name": "python",
   "nbconvert_exporter": "python",
   "pygments_lexer": "ipython3",
   "version": "3.12.2"
  }
 },
 "nbformat": 4,
 "nbformat_minor": 5
}
